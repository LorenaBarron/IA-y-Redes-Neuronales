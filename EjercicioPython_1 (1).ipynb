{
  "nbformat": 4,
  "nbformat_minor": 0,
  "metadata": {
    "colab": {
      "provenance": []
    },
    "kernelspec": {
      "name": "python3",
      "display_name": "Python 3"
    },
    "language_info": {
      "name": "python"
    }
  },
  "cells": [
    {
      "cell_type": "markdown",
      "source": [
        "Lorena Vianey Barrón de la Torre 1992296 Hora N1"
      ],
      "metadata": {
        "id": "6zdQSKIQgIPP"
      }
    },
    {
      "cell_type": "markdown",
      "source": [
        "**Ejercicio #1.** Desarrolla un algoritmo que le pida al usuario por su nombre y que lo salude con su nombre, excepto si se llama \"Ana\", \"Juan\", y \"Pedro\"."
      ],
      "metadata": {
        "id": "c3QdUTRmIFBp"
      }
    },
    {
      "cell_type": "code",
      "source": [
        "NombreUsers = input ('Cual es tu nombre? ')\n",
        "if NombreUsers == \"ana\" or NombreUsers == \"juan\" or NombreUsers == \"pedro\":\n",
        "  print('...')\n",
        "else:\n",
        "  print('Hola '+ NombreUsers + ', bienvenid@!! ')\n",
        "   "
      ],
      "metadata": {
        "colab": {
          "base_uri": "https://localhost:8080/"
        },
        "id": "k3aJHh-fINBT",
        "outputId": "e5ebfd4f-33af-461c-ac69-19ad2651e6ed"
      },
      "execution_count": null,
      "outputs": [
        {
          "output_type": "stream",
          "name": "stdout",
          "text": [
            "Cual es tu nombre? hola\n",
            "Hola hola, bienvenid@!! \n"
          ]
        }
      ]
    },
    {
      "cell_type": "markdown",
      "source": [
        "**Ejercicio #2.** Desarrolla un algoritmo que por medio de una función, le pida al usuario una lista de N elementos y como resultado invierta el sentido de la lista."
      ],
      "metadata": {
        "id": "nZS4_4NGIKtZ"
      }
    },
    {
      "cell_type": "code",
      "source": [
        "lista = []\n",
        "print ('Numero de elementos de la lista: ')\n",
        "NumElementos = int(input())\n",
        "i = 0\n",
        "print ('Ingrese los elementos de la lista... ')\n",
        "while i < NumElementos:\n",
        "  print ('Elemento #',i+1)\n",
        "  nom = input()\n",
        "  lista.append(nom)\n",
        "  i+=1\n",
        "lista.reverse()\n",
        "print(lista)\n",
        "\n",
        "\n"
      ],
      "metadata": {
        "colab": {
          "base_uri": "https://localhost:8080/"
        },
        "id": "ca2zHCy1INgE",
        "outputId": "e48aeb91-69b8-4300-c665-cbff7765b357"
      },
      "execution_count": null,
      "outputs": [
        {
          "output_type": "stream",
          "name": "stdout",
          "text": [
            "Numero de elementos de la lista: \n",
            "5\n",
            "Ingrese los elementos de la lista... \n",
            "Elemento # 1\n",
            "juan\n",
            "Elemento # 2\n",
            "ana\n",
            "Elemento # 3\n",
            "jose\n",
            "Elemento # 4\n",
            "pepe\n",
            "Elemento # 5\n",
            "lalo\n",
            "['lalo', 'pepe', 'jose', 'ana', 'juan']\n"
          ]
        }
      ]
    },
    {
      "cell_type": "markdown",
      "source": [
        "**Ejercicio #3.** Desarrolla un algoritmo que le pregunte al usuario cuántos números de la serie de Fibonnaci quiere generar y que al final los imprima."
      ],
      "metadata": {
        "id": "t0E4cLztG-tf"
      }
    },
    {
      "cell_type": "code",
      "execution_count": null,
      "metadata": {
        "colab": {
          "base_uri": "https://localhost:8080/"
        },
        "id": "fmuj_kiD9sou",
        "outputId": "b6a03aeb-1362-4709-d272-9c413eaa23f1"
      },
      "outputs": [
        {
          "output_type": "stream",
          "name": "stdout",
          "text": [
            "Cuantos numeros de la serie fibonacci desea generar? 5\n",
            "0\n",
            "1\n",
            "1\n",
            "2\n",
            "3\n"
          ]
        }
      ],
      "source": [
        "NumerosFib = int (input ('Cuantos numeros de la serie fibonacci desea generar? '))\n",
        "def fibonacci_iter(n):\n",
        "    a=1\n",
        "    b=1\n",
        "    if n==1:\n",
        "        print('0')\n",
        "    elif n==2:\n",
        "        print('0','1')\n",
        "    else:\n",
        "        print('0')\n",
        "        print(a)\n",
        "        print(b)\n",
        "        for i in range(n-3):\n",
        "            total = a + b\n",
        "            b=a\n",
        "            a= total\n",
        "            print(total)\n",
        "fibonacci_iter(NumerosFib)"
      ]
    }
  ]
}